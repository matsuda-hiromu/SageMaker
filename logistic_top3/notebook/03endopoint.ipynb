{
 "cells": [
  {
   "cell_type": "markdown",
   "metadata": {},
   "source": [
    "## エンドポイントの作成と削除\n",
    "### 参考\n",
    "- [ステップ 6: モデルを Amazon SageMaker にデプロイする@Amazon SageMaker](https://docs.aws.amazon.com/ja_jp/sagemaker/latest/dg/ex1-model-deployment.html)"
   ]
  },
  {
   "cell_type": "code",
   "execution_count": 1,
   "metadata": {},
   "outputs": [
    {
     "name": "stdout",
     "output_type": "stream",
     "text": [
      "CPU times: user 760 ms, sys: 68.6 ms, total: 829 ms\n",
      "Wall time: 881 ms\n"
     ]
    }
   ],
   "source": [
    "%%time\n",
    "import time\n",
    "import boto3\n",
    "import sagemaker as sage\n",
    "from time import gmtime, strftime\n",
    "import numpy as np\n",
    "role = sage.get_execution_role()\n",
    "sm = boto3.Session().client('sagemaker')\n"
   ]
  },
  {
   "cell_type": "code",
   "execution_count": 1,
   "metadata": {},
   "outputs": [],
   "source": [
    "# 学習コンテナから、デプロイ可能なモデルを作成\n",
    "\n",
    "image = f'{accountid}.dkr.ecr.us-west-2.amazonaws.com/sagemaker-{container_name}latest'\n",
    "training_job_name = '{training_job_name}'\n",
    "model_name = training_job_name + '-mod'\n",
    "\n",
    "info = sm.describe_training_job(TrainingJobName=training_job_name)\n",
    "model_data = info['ModelArtifacts']['S3ModelArtifacts']\n",
    "print(model_data)\n",
    "\n",
    "primary_container = {\n",
    "    'Image': image,\n",
    "    'ModelDataUrl': model_data\n",
    "}\n",
    "\n",
    "create_model_response = sm.create_model(\n",
    "    ModelName = model_name,\n",
    "    ExecutionRoleArn = role,\n",
    "    PrimaryContainer = primary_container)\n",
    "\n",
    "print(create_model_response['ModelArn'])"
   ]
  },
  {
   "cell_type": "code",
   "execution_count": 2,
   "metadata": {},
   "outputs": [],
   "source": [
    "# SageMaker エンドポイント設定\n",
    "endpoint_config_name = f'{model_name}' + strftime(\"%Y-%m-%d-%H-%M-%S\", gmtime())\n",
    "print(endpoint_config_name)\n",
    "create_endpoint_config_response = sm.create_endpoint_config(\n",
    "    EndpointConfigName = endpoint_config_name,\n",
    "    ProductionVariants=[{\n",
    "        'InstanceType':'ml.t2.medium',\n",
    "        'InitialVariantWeight':1,\n",
    "        'InitialInstanceCount':1,\n",
    "        'ModelName':model_name,\n",
    "        'VariantName':'AllTraffic'}])\n",
    "\n",
    "print(\"Endpoint Config Arn: \" + create_endpoint_config_response['EndpointConfigArn'])"
   ]
  },
  {
   "cell_type": "code",
   "execution_count": 5,
   "metadata": {},
   "outputs": [],
   "source": [
    "# エンドポイントの作成\n",
    "endpoint_name = '{container_name}-endpoint-' + strftime(\"%Y-%m-%d-%H-%M-%S\", gmtime())\n",
    "print(endpoint_name)\n",
    "create_endpoint_response = sm.create_endpoint(\n",
    "    EndpointName=endpoint_name,\n",
    "    EndpointConfigName=endpoint_config_name)\n",
    "print(create_endpoint_response['EndpointArn'])\n",
    "\n",
    "resp = sm.describe_endpoint(EndpointName=endpoint_name)\n",
    "status = resp['EndpointStatus']\n",
    "print(\"Status: \" + status)\n",
    "\n",
    "while status=='Creating':\n",
    "    time.sleep(60)\n",
    "    resp = sm.describe_endpoint(EndpointName=endpoint_name)\n",
    "    status = resp['EndpointStatus']\n",
    "    print(\"Status: \" + status)\n",
    "\n",
    "print(\"Arn: \" + resp['EndpointArn'])\n",
    "print(\"Status: \" + status)"
   ]
  },
  {
   "cell_type": "code",
   "execution_count": 6,
   "metadata": {},
   "outputs": [],
   "source": [
    "import numpy as np\n",
    "import datetime\n",
    "from dateutil.relativedelta import relativedelta\n",
    "import pandas as pd\n",
    "import pyarrow.parquet as pq\n",
    "import s3fs"
   ]
  },
  {
   "cell_type": "code",
   "execution_count": 6,
   "metadata": {},
   "outputs": [],
   "source": [
    "def s3_load(s3_path):\n",
    "    # s3からデータを読み込む\n",
    "    fs = s3fs.S3FileSystem()\n",
    "    dataset = pq.ParquetDataset(s3_path, filesystem=fs)\n",
    "    table = dataset.read()\n",
    "    df = table.to_pandas()\n",
    "    return df\n",
    "\n",
    "def s3_load_days(s3_dir_path, start_dt, end_dt):\n",
    "    # s3から日毎にデータを読み込む\n",
    "    dfs = []\n",
    "    dt = start_dt\n",
    "    while dt <= end_dt:\n",
    "        dt_str = dt.strftime('%Y-%m-%d')\n",
    "        print(dt_str)\n",
    "        s3_dt_path = s3_dir_path + f'dt={dt_str}'\n",
    "        df = s3_load(s3_dt_path)\n",
    "        dfs.append(df)\n",
    "        dt += relativedelta(days=1)\n",
    "    dfs = pd.concat(dfs)\n",
    "    return dfs"
   ]
  },
  {
   "cell_type": "code",
   "execution_count": 7,
   "metadata": {},
   "outputs": [],
   "source": [
    "s3_dir_path = f's3://{bucket}/{prifix}'\n",
    "start_dt = datetime.datetime(2020, 1, 1)\n",
    "end_dt = datetime.datetime(2020, 1, 1)\n",
    "df_test = s3_load_days(s3_dir_path, start_dt, end_dt)"
   ]
  },
  {
   "cell_type": "code",
   "execution_count": 8,
   "metadata": {},
   "outputs": [],
   "source": [
    "X_test = df_test[['feature']]\n",
    "y_test = df_test['objective']"
   ]
  },
  {
   "cell_type": "code",
   "execution_count": 9,
   "metadata": {},
   "outputs": [],
   "source": [
    "# 予測\n",
    "y_pred_top3 = []\n",
    "split_array = np.array_split(X_test.values, int(X_test.values.shape[0] / 50 + 1))\n",
    "\n",
    "for i, array in enumerate(split_array):\n",
    "    if i%100 == 0:\n",
    "        print(f'{i}/{len(split_array)}')\n",
    "    body = '\\n'.join([','.join([str(item) for item in (items)]) for items in array])\n",
    "    runtime_client = boto3.client('runtime.sagemaker')\n",
    "    response = runtime_client.invoke_endpoint(EndpointName = endpoint_name,\n",
    "                                     ContentType = 'text/csv',\n",
    "                                     Body = body)\n",
    "    y_pred = [pred.split(',') for pred in response['Body'].read().decode('utf8').split('\\n')[:-1]]\n",
    "    y_pred_top3 += y_pred\n",
    "print(len(y_pred_top3))"
   ]
  },
  {
   "cell_type": "code",
   "execution_count": 17,
   "metadata": {},
   "outputs": [
    {
     "data": {
      "text/plain": [
       "0.0718031528794807"
      ]
     },
     "execution_count": 17,
     "metadata": {},
     "output_type": "execute_result"
    }
   ],
   "source": [
    "# Top1件　精度\n",
    "acc = 0\n",
    "for test, top3 in zip(y_test, y_pred_top3):\n",
    "    #print(test in top3)\n",
    "    if test in top3[0:1]:\n",
    "        acc += 1\n",
    "    \n",
    "acc/len(y_pred_top3)"
   ]
  },
  {
   "cell_type": "code",
   "execution_count": 18,
   "metadata": {},
   "outputs": [
    {
     "data": {
      "text/plain": [
       "0.14835481085920763"
      ]
     },
     "execution_count": 18,
     "metadata": {},
     "output_type": "execute_result"
    }
   ],
   "source": [
    "# Top3件　精度\n",
    "acc = 0\n",
    "for test, top3 in zip(y_test, y_pred_top3):\n",
    "    #print(test in top3)\n",
    "    if test in top3:\n",
    "        acc += 1\n",
    "    \n",
    "acc/len(y_pred_top3)"
   ]
  },
  {
   "cell_type": "code",
   "execution_count": null,
   "metadata": {},
   "outputs": [],
   "source": [
    "# エンドポイント削除\n",
    "client = boto3.client('sagemaker')\n",
    "response = client.describe_endpoint_config(EndpointConfigName=endpoint_config_name)\n",
    "model_name = response['ProductionVariants'][0]['ModelName']\n",
    "\n",
    "client.delete_model(ModelName=model_name)    \n",
    "client.delete_endpoint(EndpointName=endpoint_name)\n",
    "client.delete_endpoint_config(EndpointConfigName=endpoint_config_name);"
   ]
  }
 ],
 "metadata": {
  "kernelspec": {
   "display_name": "Python 3.7.5 64-bit",
   "language": "python",
   "name": "python37564bit67f5376d278e4ce7916946cf2652e2e8"
  },
  "language_info": {
   "codemirror_mode": {
    "name": "ipython",
    "version": 3
   },
   "file_extension": ".py",
   "mimetype": "text/x-python",
   "name": "python",
   "nbconvert_exporter": "python",
   "pygments_lexer": "ipython3",
   "version": "3.7.5-final"
  }
 },
 "nbformat": 4,
 "nbformat_minor": 4
}
