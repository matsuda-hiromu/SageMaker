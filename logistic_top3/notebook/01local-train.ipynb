{
 "cells": [
  {
   "cell_type": "markdown",
   "metadata": {},
   "source": [
    "## データの整形"
   ]
  },
  {
   "cell_type": "code",
   "execution_count": null,
   "metadata": {},
   "outputs": [],
   "source": [
    "!conda install -y pyarrow s3fs \n",
    "#!pip freeze > requirements.txt"
   ]
  },
  {
   "cell_type": "code",
   "execution_count": 2,
   "metadata": {},
   "outputs": [],
   "source": [
    "import numpy as np\n",
    "import datetime\n",
    "from dateutil.relativedelta import relativedelta\n",
    "import pandas as pd\n",
    "import pyarrow.parquet as pq\n",
    "import s3fs"
   ]
  },
  {
   "cell_type": "code",
   "execution_count": 13,
   "metadata": {},
   "outputs": [],
   "source": [
    "def s3_load(s3_path):\n",
    "    # s3からデータを読み込む\n",
    "    fs = s3fs.S3FileSystem()\n",
    "    dataset = pq.ParquetDataset(s3_path, filesystem=fs)\n",
    "    table = dataset.read()\n",
    "    df = table.to_pandas()\n",
    "    return df\n",
    "\n",
    "def s3_load_days(s3_dir_path, start_dt, end_dt):\n",
    "    # s3から日毎にデータを読み込む\n",
    "    dfs = []\n",
    "    dt = start_dt\n",
    "    while dt <= end_dt:\n",
    "        dt_str = dt.strftime('%Y-%m-%d')\n",
    "        print(dt_str)\n",
    "        s3_dt_path = s3_dir_path + f'dt={dt_str}'\n",
    "        df = s3_load(s3_dt_path)\n",
    "        dfs.append(df)\n",
    "        dt += relativedelta(days=1)\n",
    "    dfs = pd.concat(dfs)\n",
    "    return dfs"
   ]
  },
  {
   "cell_type": "code",
   "execution_count": 1,
   "metadata": {},
   "outputs": [],
   "source": [
    "s3_dir_path = f's3://{bucket}/{prifix}'\n",
    "start_dt = datetime.datetime(2019, 12, 1)\n",
    "end_dt = datetime.datetime(2019, 12, 31)\n",
    "\n",
    "df = s3_load_days(s3_dir_path, start_dt, end_dt)\n",
    "df.head()\n",
    "X =\n",
    "y = "
   ]
  },
  {
   "cell_type": "code",
   "execution_count": 2,
   "metadata": {},
   "outputs": [],
   "source": [
    "from sklearn.preprocessing import OneHotEncoder\n",
    "from sklearn.linear_model import LogisticRegression\n",
    "from sklearn.pipeline import Pipeline\n",
    "steps = [('preprocess', OneHotEncoder(handle_unknown=\"ignore\", sparse=False)), ('model', LogisticRegression())]\n",
    "pipeline = Pipeline(steps=steps)\n",
    "pipeline.fit(X, y)"
   ]
  },
  {
   "cell_type": "markdown",
   "metadata": {},
   "source": [
    "## 評価"
   ]
  },
  {
   "cell_type": "code",
   "execution_count": 19,
   "metadata": {},
   "outputs": [
    {
     "data": {
      "text/plain": [
       "array([[5.38520079e-05, 1.35594518e-03, 3.24138010e-05, ...,\n",
       "        1.40758938e-04, 1.42736107e-03, 1.86491739e-04],\n",
       "       [1.59489337e-04, 3.80819507e-02, 4.27922787e-05, ...,\n",
       "        3.62563777e-05, 9.14806259e-05, 5.71743648e-05],\n",
       "       [8.06277274e-05, 1.35010804e-03, 3.26009327e-05, ...,\n",
       "        8.01564446e-05, 9.89089636e-04, 2.10797420e-04]])"
      ]
     },
     "execution_count": 19,
     "metadata": {},
     "output_type": "execute_result"
    }
   ],
   "source": [
    "y_prob = pipeline.predict_proba(X)\n",
    "y_prob[0:3]"
   ]
  },
  {
   "cell_type": "code",
   "execution_count": 23,
   "metadata": {},
   "outputs": [],
   "source": [
    "y_pred_top3 = []\n",
    "for probs in y_prob:\n",
    "    top3_prob = sorted(probs,reverse=True)[0:3]\n",
    "    top3_index = [int(np.where(probs ==top3_prob[j])[0]) for j in range(3)]\n",
    "    y_pred_top3.append(pipeline.classes_[top3_index])"
   ]
  },
  {
   "cell_type": "code",
   "execution_count": 26,
   "metadata": {},
   "outputs": [
    {
     "data": {
      "text/plain": [
       "0.0718031528794807"
      ]
     },
     "execution_count": 26,
     "metadata": {},
     "output_type": "execute_result"
    }
   ],
   "source": [
    "# top1\n",
    "acc = 0\n",
    "for test, top3 in zip(y_test, y_pred_top3):\n",
    "    #print(test in top3)\n",
    "    if test in top3[0:1]:\n",
    "        acc += 1\n",
    "    \n",
    "acc/len(y_pred_top3)"
   ]
  },
  {
   "cell_type": "code",
   "execution_count": 25,
   "metadata": {},
   "outputs": [
    {
     "data": {
      "text/plain": [
       "0.14835481085920763"
      ]
     },
     "execution_count": 25,
     "metadata": {},
     "output_type": "execute_result"
    }
   ],
   "source": [
    "# top3\n",
    "acc = 0\n",
    "for test, top3 in zip(y_test, y_pred_top3):\n",
    "    #print(test in top3)\n",
    "    if test in top3:\n",
    "        acc += 1\n",
    "    \n",
    "acc/len(y_pred_top3)"
   ]
  }
 ],
 "metadata": {
  "kernelspec": {
   "display_name": "Python 3.7.5 64-bit",
   "language": "python",
   "name": "python37564bit67f5376d278e4ce7916946cf2652e2e8"
  },
  "language_info": {
   "codemirror_mode": {
    "name": "ipython",
    "version": 3
   },
   "file_extension": ".py",
   "mimetype": "text/x-python",
   "name": "python",
   "nbconvert_exporter": "python",
   "pygments_lexer": "ipython3",
   "version": "3.7.5-final"
  }
 },
 "nbformat": 4,
 "nbformat_minor": 4
}