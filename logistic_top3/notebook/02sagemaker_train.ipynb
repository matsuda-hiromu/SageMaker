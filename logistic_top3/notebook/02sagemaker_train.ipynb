{
 "cells": [
  {
   "cell_type": "markdown",
   "metadata": {},
   "source": [
    "## SageMaker用にECRに独自のアルゴリズムのコンテナを用意する\n",
    "\n",
    "## 参考\n",
    "- [Amazon SageMaker コンテナ: Docker コンテナを作成するためのライブラリ](https://docs.aws.amazon.com/ja_jp/sagemaker/latest/dg/amazon-sagemaker-containers.html)\n",
    "- [エントリポイントを定義するために Amazon SageMaker コンテナによって使用される環境変数](https://docs.aws.amazon.com/ja_jp/sagemaker/latest/dg/docker-container-environmental-variables-entrypoint.html)\n",
    "- [ノートブックの例: 独自のアルゴリズムまたはモデルの使用](https://docs.aws.amazon.com/ja_jp/sagemaker/latest/dg/adv-bring-own-examples.html)\n",
    "- [ai/books-rec/item-vectors/train-model](https://git.dmm.com/ai/books-rec/tree/master/item-vectors/train-model)"
   ]
  },
  {
   "cell_type": "markdown",
   "metadata": {},
   "source": [
    "### コンテナイメージのビルドとプッシュ\n",
    "`build-and-push.sh logistic-regression` と打つのと同様の処理が実行される。"
   ]
  },
  {
   "cell_type": "code",
   "execution_count": 1,
   "metadata": {},
   "outputs": [],
   "source": [
    "%%sh\n",
    "\n",
    "# The name of our algorithm\n",
    "algorithm_name=sagemaker-logistic-regression-top3\n",
    "\n",
    "cd ../container\n",
    "\n",
    "chmod +x scripts/train\n",
    "chmod +x scripts/serve\n",
    "\n",
    "account=$(aws sts get-caller-identity --query Account --output text)\n",
    "\n",
    "# Get the region defined in the current configuration (default to us-west-2 if none defined)\n",
    "region=$(aws configure get region)\n",
    "region=${region:-us-west-2}\n",
    "\n",
    "fullname=\"${account}.dkr.ecr.${region}.amazonaws.com/${algorithm_name}:latest\"\n",
    "\n",
    "# If the repository doesn't exist in ECR, create it.\n",
    "aws ecr describe-repositories --repository-names \"${algorithm_name}\" > /dev/null 2>&1\n",
    "\n",
    "if [ $? -ne 0 ]\n",
    "then\n",
    "    aws ecr create-repository --repository-name \"${algorithm_name}\" > /dev/null\n",
    "fi\n",
    "\n",
    "# Get the login command from ECR and execute it directly\n",
    "$(aws ecr get-login --region ${region} --no-include-email)\n",
    "\n",
    "# Build the docker image locally with the image name and then push it to ECR\n",
    "# with the full name.\n",
    "\n",
    "docker build  -t ${algorithm_name} .\n",
    "docker tag ${algorithm_name} ${fullname}\n",
    "\n",
    "docker push ${fullname}"
   ]
  },
  {
   "cell_type": "markdown",
   "metadata": {},
   "source": [
    "## 学習データのアップロード"
   ]
  },
  {
   "cell_type": "code",
   "execution_count": null,
   "metadata": {},
   "outputs": [],
   "source": [
    "import datetime\n",
    "from dateutil.relativedelta import relativedelta\n",
    "import pandas as pd\n",
    "import numpy as np\n",
    "import pyarrow.parquet as pq\n",
    "import s3fs"
   ]
  },
  {
   "cell_type": "code",
   "execution_count": 10,
   "metadata": {},
   "outputs": [],
   "source": [
    "def s3_load(s3_path):\n",
    "    # s3からデータを読み込む\n",
    "    fs = s3fs.S3FileSystem()\n",
    "    dataset = pq.ParquetDataset(s3_path, filesystem=fs)\n",
    "    table = dataset.read()\n",
    "    df = table.to_pandas()\n",
    "    return df\n",
    "\n",
    "def s3_load_days(s3_dir_path, start_dt, end_dt):\n",
    "    # s3から日毎にデータを読み込む\n",
    "    dfs = []\n",
    "    dt = start_dt\n",
    "    while dt <= end_dt:\n",
    "        dt_str = dt.strftime('%Y-%m-%d')\n",
    "        print(dt_str)\n",
    "        s3_dt_path = s3_dir_path + f'dt={dt_str}'\n",
    "        df = s3_load(s3_dt_path)\n",
    "        dfs.append(df)\n",
    "        dt += relativedelta(days=1)\n",
    "    dfs = pd.concat(dfs)\n",
    "    return dfs"
   ]
  },
  {
   "cell_type": "code",
   "execution_count": 2,
   "metadata": {},
   "outputs": [],
   "source": [
    "s3_dir_path = 's3://{prefix}/'\n",
    "start_dt = datetime.datetime(2019, 12, 1)\n",
    "end_dt = datetime.datetime(2019, 12, 31)\n",
    "\n",
    "df = s3_load_days(s3_dir_path, start_dt, end_dt)\n",
    "df.to_csv('../data/train.csv', header=None, index=None)\n",
    "df.head()"
   ]
  },
  {
   "cell_type": "markdown",
   "metadata": {},
   "source": [
    "## プッシュしたコンテナイメージを用いて学習"
   ]
  },
  {
   "cell_type": "code",
   "execution_count": 3,
   "metadata": {},
   "outputs": [],
   "source": [
    "# S3 prefix\n",
    "prefix = 'hogehoge'\n",
    "\n",
    "# Define IAM role\n",
    "import boto3\n",
    "import re\n",
    "import os\n",
    "from sagemaker import get_execution_role\n",
    "import sagemaker as sage\n",
    "from time import gmtime, strftime\n",
    "role = get_execution_role()\n",
    "sess = sage.Session()\n",
    "sess.default_bucket()"
   ]
  },
  {
   "cell_type": "code",
   "execution_count": 4,
   "metadata": {},
   "outputs": [],
   "source": [
    "# upload data\n",
    "WORK_DIRECTORY = '../data'\n",
    "data_location = sess.upload_data(WORK_DIRECTORY, key_prefix=prefix)\n",
    "data_location"
   ]
  },
  {
   "cell_type": "code",
   "execution_count": 5,
   "metadata": {},
   "outputs": [],
   "source": [
    "data_location = 's3://sagemaker-us-west-2-{account_id}/{model-name}'\n",
    "\n",
    "\n",
    "# training\n",
    "account = sess.boto_session.client('sts').get_caller_identity()['Account']\n",
    "region = sess.boto_session.region_name\n",
    "image = '{}.dkr.ecr.{}.amazonaws.com/sagemaker-{container_name}:latest'.format(account, region)\n",
    "\n",
    "model = sage.estimator.Estimator(image,\n",
    "                                 role, \n",
    "                                 1, \n",
    "                                 'ml.c4.2xlarge',\n",
    "                                 output_path=\"s3://{}/output\".format(sess.default_bucket()),\n",
    "                                 #base_job_name=,\n",
    "                                 sagemaker_session=sess)\n",
    "\n",
    "model.fit(data_location)"
   ]
  },
  {
   "cell_type": "code",
   "execution_count": 7,
   "metadata": {},
   "outputs": [],
   "source": [
    "model.latest_training_job.name"
   ]
  },
  {
   "cell_type": "code",
   "execution_count": null,
   "metadata": {},
   "outputs": [],
   "source": [
    "# そのままエンドポイントを建てたい場合\n",
    "#from sagemaker.predictor import csv_serializer\n",
    "#predictor = model.deploy(1, 'ml.t2.medium', serializer=csv_serializer)"
   ]
  }
 ],
 "metadata": {
  "kernelspec": {
   "display_name": "Python 3.7.5 64-bit",
   "language": "python",
   "name": "python37564bit67f5376d278e4ce7916946cf2652e2e8"
  },
  "language_info": {
   "codemirror_mode": {
    "name": "ipython",
    "version": 3
   },
   "file_extension": ".py",
   "mimetype": "text/x-python",
   "name": "python",
   "nbconvert_exporter": "python",
   "pygments_lexer": "ipython3",
   "version": "3.7.5-final"
  }
 },
 "nbformat": 4,
 "nbformat_minor": 4
}
